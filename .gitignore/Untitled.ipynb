{
 "cells": [
  {
   "cell_type": "code",
   "execution_count": 72,
   "id": "513d647f",
   "metadata": {},
   "outputs": [
    {
     "name": "stdout",
     "output_type": "stream",
     "text": [
      "Temperature is out of range!\n",
      "Temperature is out of range!\n",
      "State of Charge is out of range!\n",
      "State of Charge is out of range!\n",
      "Charge rate is out of range!\n"
     ]
    }
   ],
   "source": [
    "import Check_Battery_Status\n",
    "\n",
    "def test_battery_is_ok():\n",
    "    assert(Check_Battery_Status.battery_is_ok(-0.1, 70, 0.8) is False)\n",
    "    assert(Check_Battery_Status.battery_is_ok(50, 70, 0.8) is False)\n",
    "    assert(Check_Battery_Status.battery_is_ok(40, 19, 0.8) is False)\n",
    "    assert(Check_Battery_Status.battery_is_ok(35, 81, 0.8) is False)\n",
    "    assert(Check_Battery_Status.battery_is_ok(20, 70, 0.9) is False)\n",
    "    assert(Check_Battery_Status.battery_is_ok(25, 70, 0.7) is True)\n",
    "\n",
    "if __name__ == '__main__':\n",
    "    test_battery_is_ok()"
   ]
  },
  {
   "cell_type": "markdown",
   "id": "d64bff4c",
   "metadata": {},
   "source": []
  },
  {
   "cell_type": "code",
   "execution_count": null,
   "id": "96ed3917",
   "metadata": {},
   "outputs": [],
   "source": []
  }
 ],
 "metadata": {
  "kernelspec": {
   "display_name": "Python 3 (ipykernel)",
   "language": "python",
   "name": "python3"
  },
  "language_info": {
   "codemirror_mode": {
    "name": "ipython",
    "version": 3
   },
   "file_extension": ".py",
   "mimetype": "text/x-python",
   "name": "python",
   "nbconvert_exporter": "python",
   "pygments_lexer": "ipython3",
   "version": "3.9.7"
  }
 },
 "nbformat": 4,
 "nbformat_minor": 5
}
